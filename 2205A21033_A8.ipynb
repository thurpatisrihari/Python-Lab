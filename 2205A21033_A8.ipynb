{
  "nbformat": 4,
  "nbformat_minor": 0,
  "metadata": {
    "colab": {
      "provenance": [],
      "authorship_tag": "ABX9TyP51cLnJDzR5i9dhZUnzvzG",
      "include_colab_link": true
    },
    "kernelspec": {
      "name": "python3",
      "display_name": "Python 3"
    },
    "language_info": {
      "name": "python"
    }
  },
  "cells": [
    {
      "cell_type": "markdown",
      "metadata": {
        "id": "view-in-github",
        "colab_type": "text"
      },
      "source": [
        "<a href=\"https://colab.research.google.com/github/thurpatisrihari/Python-Lab/blob/main/2205A21033_A8.ipynb\" target=\"_parent\"><img src=\"https://colab.research.google.com/assets/colab-badge.svg\" alt=\"Open In Colab\"/></a>"
      ]
    },
    {
      "cell_type": "code",
      "execution_count": 9,
      "metadata": {
        "colab": {
          "base_uri": "https://localhost:8080/"
        },
        "id": "CTcn4fQNe3H7",
        "outputId": "702e2f87-260c-43a2-e4f8-9c6a651190a1"
      },
      "outputs": [
        {
          "output_type": "stream",
          "name": "stdout",
          "text": [
            "Qualification= ['srihari', 'B.Tech', 2026, 'Μ.Ε.', 2028]\n",
            "Experience ['SSCE', 2007, 'infosys', '2011', 'AITAM', '2013', 'SREC', '2018']\n",
            "CA ['srihari', 'B.Tech', 2026, 'Μ.Ε.', 2028, 'SSCE', 2007, 'infosys', '2011', 'AITAM', '2013', 'SREC', '2018']\n"
          ]
        }
      ],
      "source": [
        " Qualification=['srihari', 'B.Tech', 2026, 'Μ.Ε.', 2028]\n",
        "\n",
        "Experience=['SSCE', 2007, 'infosys', '2011', 'AITAM', '2013', 'SREC', '2018']\n",
        "CA=Qualification + Experience\n",
        "\n",
        "print(\"Qualification=\", Qualification)\n",
        "\n",
        "print(\"Experience\", Experience)\n",
        "\n",
        "print(\"CA\", CA)"
      ]
    },
    {
      "cell_type": "code",
      "source": [
        "Qualification=['srihari', 'B.Tech', 2006, 'Μ.Ε.', 2011]\n",
        "print(Qualification)\n",
        "print(Qualification[0])\n",
        "\n",
        "print(Qualification[1:])\n",
        "\n",
        "print(Qualification[1:5])\n",
        "\n",
        "print (Qualification *2)\n",
        "\n",
        "print(Qualification[::-1])"
      ],
      "metadata": {
        "colab": {
          "base_uri": "https://localhost:8080/"
        },
        "id": "dn-3xyyhjw1r",
        "outputId": "0a1daae6-0640-4f0f-b1d8-20a50bcda3c5"
      },
      "execution_count": null,
      "outputs": [
        {
          "output_type": "stream",
          "name": "stdout",
          "text": [
            "['srihari', 'B.Tech', 2006, 'Μ.Ε.', 2011]\n",
            "srihari\n",
            "['B.Tech', 2006, 'Μ.Ε.', 2011]\n",
            "['B.Tech', 2006, 'Μ.Ε.', 2011]\n",
            "['srihari', 'B.Tech', 2006, 'Μ.Ε.', 2011, 'srihari', 'B.Tech', 2006, 'Μ.Ε.', 2011]\n",
            "[2011, 'Μ.Ε.', 2006, 'B.Tech', 'srihari']\n"
          ]
        }
      ]
    },
    {
      "cell_type": "code",
      "source": [
        "list=['venkat', '1985']\n",
        "print('Venkat birth year', list[1])\n",
        "list[0]='dev'\n",
        "list[1]=2017\n",
        "print('dev birth year', list[1])"
      ],
      "metadata": {
        "colab": {
          "base_uri": "https://localhost:8080/"
        },
        "id": "9IYeysX1lpAU",
        "outputId": "46a2771e-10fb-4666-c3c8-5c427e91e18a"
      },
      "execution_count": null,
      "outputs": [
        {
          "output_type": "stream",
          "name": "stdout",
          "text": [
            "Venkat birth year 1985\n",
            "dev birth year 2017\n"
          ]
        }
      ]
    },
    {
      "cell_type": "code",
      "source": [
        "list=['venkat', '1985']\n",
        "print(list)\n",
        "del list[1]\n",
        "print(list)"
      ],
      "metadata": {
        "colab": {
          "base_uri": "https://localhost:8080/"
        },
        "id": "lm9QaFXimor7",
        "outputId": "e378751d-05e7-4f65-d5fb-291e13ed42f5"
      },
      "execution_count": null,
      "outputs": [
        {
          "output_type": "stream",
          "name": "stdout",
          "text": [
            "['venkat', '1985']\n",
            "['venkat']\n"
          ]
        }
      ]
    },
    {
      "cell_type": "code",
      "source": [
        "Name=['Ramana', 'Thanmai', 'Dev']\n",
        "DOB=[1985, 2014,2017]\n",
        "print(\"Number of peoples\", len(Name))\n",
        "print('==========' )\n",
        "Details=Name+DOB\n",
        "print('Biodata', Details)\n",
        "print('==========' )\n",
        "Repetition=Name *2\n",
        "print('Repetition', Repetition)\n",
        "print('========')\n",
        "for x in Name:\n",
        "   print(x)\n",
        "print('=========')"
      ],
      "metadata": {
        "colab": {
          "base_uri": "https://localhost:8080/"
        },
        "id": "54SdqkmanI4b",
        "outputId": "cfa429b7-efb0-43bc-deeb-d6ed607bc7c4"
      },
      "execution_count": null,
      "outputs": [
        {
          "output_type": "stream",
          "name": "stdout",
          "text": [
            "Number of peoples 3\n",
            "==========\n",
            "Biodata ['Ramana', 'Thanmai', 'Dev', 1985, 2014, 2017]\n",
            "==========\n",
            "Repetition ['Ramana', 'Thanmai', 'Dev', 'Ramana', 'Thanmai', 'Dev']\n",
            "========\n",
            "Ramana\n",
            "Thanmai\n",
            "Dev\n",
            "=========\n"
          ]
        }
      ]
    },
    {
      "cell_type": "code",
      "source": [
        "Name=['Ramana', 'Thanmai', 'Dev']\n",
        "DOB=[1985,2014,2017]\n",
        "print(\"Name with maximum charecters\", max(Name))\n",
        "print(\"Younger person DOB\", max(DOB))\n",
        "print(\"Name with minimum charecters\", min (Name))\n",
        "print(\"Older person DOB\", min(DOB))"
      ],
      "metadata": {
        "colab": {
          "base_uri": "https://localhost:8080/"
        },
        "id": "8LgzDaeOo5Hs",
        "outputId": "9e7c9b17-75b5-4580-8eb5-3efc626eca47"
      },
      "execution_count": null,
      "outputs": [
        {
          "output_type": "stream",
          "name": "stdout",
          "text": [
            "Name with maximum charecters Thanmai\n",
            "Younger person DOB 2017\n",
            "Name with minimum charecters Dev\n",
            "Older person DOB 1985\n"
          ]
        }
      ]
    },
    {
      "cell_type": "code",
      "source": [
        "Students=['ram', 'venkat']\n",
        "print (Students)\n",
        "Students.append('Dev')\n",
        "print (Students)"
      ],
      "metadata": {
        "colab": {
          "base_uri": "https://localhost:8080/"
        },
        "id": "-nQScIAQsiei",
        "outputId": "62a8c890-9bdd-4d74-e83e-e87dc443a00d"
      },
      "execution_count": null,
      "outputs": [
        {
          "output_type": "stream",
          "name": "stdout",
          "text": [
            "['ram', 'venkat']\n",
            "['ram', 'venkat', 'Dev']\n"
          ]
        }
      ]
    },
    {
      "cell_type": "code",
      "source": [
        "Grade=['A', 'A', 'B', 'C', 'A']\n",
        "print(\"How many peoples got A grade\", Grade.count('A'))"
      ],
      "metadata": {
        "colab": {
          "base_uri": "https://localhost:8080/"
        },
        "id": "Sp4NiwwhspYi",
        "outputId": "bf97515b-1077-4ec2-beb7-508ad2dce6ae"
      },
      "execution_count": null,
      "outputs": [
        {
          "output_type": "stream",
          "name": "stdout",
          "text": [
            "How many peoples got A grade 3\n"
          ]
        }
      ]
    },
    {
      "cell_type": "code",
      "source": [
        "Family=['Venkat', 'Swetha']\n",
        "print('Family members', Family)\n",
        "atuple=('Dev', 'Thanmai')\n",
        "Family.extend(atuple)\n",
        "print('Family members', Family)"
      ],
      "metadata": {
        "colab": {
          "base_uri": "https://localhost:8080/"
        },
        "id": "JNggSjpitQIj",
        "outputId": "2a76e0f0-395a-4aaa-8520-f45432aec8ee"
      },
      "execution_count": null,
      "outputs": [
        {
          "output_type": "stream",
          "name": "stdout",
          "text": [
            "Family members ['Venkat', 'Swetha']\n",
            "Family members ['Venkat', 'Swetha', 'Dev', 'Thanmai']\n"
          ]
        }
      ]
    },
    {
      "cell_type": "code",
      "source": [
        "Grade=['A', 'A', 'B', 'C', 'A']\n",
        "print('lower index for grade B',Grade.index('B'))"
      ],
      "metadata": {
        "colab": {
          "base_uri": "https://localhost:8080/"
        },
        "id": "ZCfAnwcKtjJs",
        "outputId": "6a8c6d16-f568-4c2f-de86-d76c802949fe"
      },
      "execution_count": null,
      "outputs": [
        {
          "output_type": "stream",
          "name": "stdout",
          "text": [
            "lower index for grade B 2\n"
          ]
        }
      ]
    },
    {
      "cell_type": "code",
      "source": [
        "Family=['Ramana', \"Swetha\", \"Thanmai\", 'Dev']\n",
        "print('Family members', Family)\n",
        "Family.remove(\"Ramana\")\n",
        "print('Family members', Family)"
      ],
      "metadata": {
        "colab": {
          "base_uri": "https://localhost:8080/"
        },
        "id": "3ZyT0LWMultk",
        "outputId": "f3b8f370-68b0-46e4-c308-5745e4e7daaf"
      },
      "execution_count": null,
      "outputs": [
        {
          "output_type": "stream",
          "name": "stdout",
          "text": [
            "Family members ['Ramana', 'Swetha', 'Thanmai', 'Dev']\n",
            "Family members ['Swetha', 'Thanmai', 'Dev']\n"
          ]
        }
      ]
    },
    {
      "cell_type": "code",
      "source": [
        "Family =['Ramana', \"Swetha\", \"Thanmai\", \"Dev\"]\n",
        "print('Family members', Family)\n",
        "Family.reverse()\n",
        "print(\"Family members\", Family)"
      ],
      "metadata": {
        "colab": {
          "base_uri": "https://localhost:8080/"
        },
        "id": "JDWz3bg1vFbN",
        "outputId": "591ae2c5-c7ca-445b-ff0c-2f087ce87d59"
      },
      "execution_count": null,
      "outputs": [
        {
          "output_type": "stream",
          "name": "stdout",
          "text": [
            "Family members ['Ramana', 'Swetha', 'Thanmai', 'Dev']\n",
            "Family members ['Dev', 'Thanmai', 'Swetha', 'Ramana']\n"
          ]
        }
      ]
    },
    {
      "cell_type": "code",
      "source": [
        "Name =[\"Ramana\", \"Thanmal\", 'Dev']\n",
        "print(\"Family members\", Name)\n",
        "Name.insert(1, \"Swetha\")\n",
        "print(\"Family members\", Name)"
      ],
      "metadata": {
        "colab": {
          "base_uri": "https://localhost:8080/"
        },
        "id": "5LtneKnDvTFb",
        "outputId": "229a2f66-3364-4b19-8de7-14f3d52152ae"
      },
      "execution_count": null,
      "outputs": [
        {
          "output_type": "stream",
          "name": "stdout",
          "text": [
            "Family members ['Ramana', 'Thanmal', 'Dev']\n",
            "Family members ['Ramana', 'Swetha', 'Thanmal', 'Dev']\n"
          ]
        }
      ]
    },
    {
      "cell_type": "code",
      "source": [
        "Name =[\"Ramana\", \"Thanmal\", 'Dev']\n",
        "print(\"Family members\", Name)\n",
        "Name.insert(1, \"Swetha\")\n",
        "print(\"Family members\", Name)"
      ],
      "metadata": {
        "colab": {
          "base_uri": "https://localhost:8080/"
        },
        "id": "e4HjpC2AvlZ7",
        "outputId": "09dc3d09-6aae-4628-854a-cca78ee0f183"
      },
      "execution_count": null,
      "outputs": [
        {
          "output_type": "stream",
          "name": "stdout",
          "text": [
            "Family members ['Ramana', 'Thanmal', 'Dev']\n",
            "Family members ['Ramana', 'Swetha', 'Thanmal', 'Dev']\n"
          ]
        }
      ]
    },
    {
      "cell_type": "code",
      "source": [
        "Family=['Ramana', \"Swetha\", \"Thanmai\", 'Dev']\n",
        "print('Family members', Family)\n",
        "Family.pop()\n",
        "print('Family members', Family)\n",
        "Family.pop(2)\n",
        "print('Family members', Family)"
      ],
      "metadata": {
        "colab": {
          "base_uri": "https://localhost:8080/"
        },
        "id": "K3daX6q1wufU",
        "outputId": "dd7b593d-2248-4f01-d272-89eafd749ab1"
      },
      "execution_count": null,
      "outputs": [
        {
          "output_type": "stream",
          "name": "stdout",
          "text": [
            "Family members ['Ramana', 'Swetha', 'Thanmai', 'Dev']\n",
            "Family members ['Ramana', 'Swetha', 'Thanmai']\n",
            "Family members ['Ramana', 'Swetha']\n"
          ]
        }
      ]
    },
    {
      "cell_type": "code",
      "source": [
        "tuple=(\"venkat\", 'B.Tech', 2006)\n",
        "print(tuple)\n",
        "print(tuple[0])\n",
        "print(tuple[0:2])\n",
        "print(tuple[0:])\n",
        "print(tuple[::-1])\n",
        "print(tuple[2:0:-1])"
      ],
      "metadata": {
        "id": "sqpP3dLrxSQi",
        "colab": {
          "base_uri": "https://localhost:8080/"
        },
        "outputId": "563d5fbc-4a1b-4b87-dfa5-3d2e65767da3"
      },
      "execution_count": 1,
      "outputs": [
        {
          "output_type": "stream",
          "name": "stdout",
          "text": [
            "('venkat', 'B.Tech', 2006)\n",
            "venkat\n",
            "('venkat', 'B.Tech')\n",
            "('venkat', 'B.Tech', 2006)\n",
            "(2006, 'B.Tech', 'venkat')\n",
            "(2006, 'B.Tech')\n"
          ]
        }
      ]
    },
    {
      "cell_type": "code",
      "source": [
        "tiny={'Name': 'Venkat', 'Marks':891}\n",
        "print(tiny)\n",
        "print(tiny['Name'])\n",
        "print(tiny['Marks'])\n",
        "tiny['Name']='ramana'\n",
        "print(tiny)\n",
        "print(tiny['Marks'])\n",
        "tiny['Name']='ramana'\n",
        "print(tiny)"
      ],
      "metadata": {
        "colab": {
          "base_uri": "https://localhost:8080/"
        },
        "id": "LMrdyTMGTQFg",
        "outputId": "2cb10941-9310-4157-a6ed-e2c0f8fb158c"
      },
      "execution_count": 3,
      "outputs": [
        {
          "output_type": "stream",
          "name": "stdout",
          "text": [
            "{'Name': 'Venkat', 'Marks': 891}\n",
            "Venkat\n",
            "891\n",
            "{'Name': 'ramana', 'Marks': 891}\n",
            "891\n",
            "{'Name': 'ramana', 'Marks': 891}\n"
          ]
        }
      ]
    },
    {
      "cell_type": "code",
      "source": [
        "thisset = {\"apple\", \"banana\", \"cherry\"}\n",
        "tropical ={\"pineapple\", \"mango\", \"papaya\"}\n",
        "thisset.update(tropical)\n",
        "print(thisset)"
      ],
      "metadata": {
        "colab": {
          "base_uri": "https://localhost:8080/"
        },
        "id": "gXDtOgowUgt2",
        "outputId": "50097fc1-acf0-4b7c-b848-91da9f2cb875"
      },
      "execution_count": 4,
      "outputs": [
        {
          "output_type": "stream",
          "name": "stdout",
          "text": [
            "{'papaya', 'banana', 'pineapple', 'cherry', 'mango', 'apple'}\n"
          ]
        }
      ]
    },
    {
      "cell_type": "code",
      "source": [
        "thisset = {\"apple\", \"banana\", \"cherry\"}\n",
        "for x in thisset:\n",
        " print(x)"
      ],
      "metadata": {
        "colab": {
          "base_uri": "https://localhost:8080/"
        },
        "id": "zz0C6gdmUrHI",
        "outputId": "5368ad4a-b6cc-4709-d31b-76c72a103449"
      },
      "execution_count": 5,
      "outputs": [
        {
          "output_type": "stream",
          "name": "stdout",
          "text": [
            "banana\n",
            "apple\n",
            "cherry\n"
          ]
        }
      ]
    },
    {
      "cell_type": "code",
      "source": [
        "thisset = {\"apple\", \"banana\", \"cherry\"}\n",
        "mylist = [\"kiwi\", \"orange\"]\n",
        "mylist_2=(2,3)\n",
        "mylist_3={\"Name\":\"Venkat\", \"School\": \"SRU\"}\n",
        "thisset.update(mylist)\n",
        "thisset.update(mylist_2)\n",
        "thisset.update(mylist_3)\n",
        "print(thisset)"
      ],
      "metadata": {
        "colab": {
          "base_uri": "https://localhost:8080/"
        },
        "id": "1sj2ynpBU07T",
        "outputId": "09853b1c-6a0f-4114-ec97-49353d4363ce"
      },
      "execution_count": 7,
      "outputs": [
        {
          "output_type": "stream",
          "name": "stdout",
          "text": [
            "{2, 'orange', 3, 'School', 'kiwi', 'Name', 'banana', 'cherry', 'apple'}\n"
          ]
        }
      ]
    }
  ]
}