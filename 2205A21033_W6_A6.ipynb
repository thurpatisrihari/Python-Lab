{
  "nbformat": 4,
  "nbformat_minor": 0,
  "metadata": {
    "colab": {
      "provenance": [],
      "authorship_tag": "ABX9TyOrMVn9R9PDfkGHmi4ptq4E",
      "include_colab_link": true
    },
    "kernelspec": {
      "name": "python3",
      "display_name": "Python 3"
    },
    "language_info": {
      "name": "python"
    }
  },
  "cells": [
    {
      "cell_type": "markdown",
      "metadata": {
        "id": "view-in-github",
        "colab_type": "text"
      },
      "source": [
        "<a href=\"https://colab.research.google.com/github/thurpatisrihari/Python-Lab/blob/main/2205A21033_W6_A6.ipynb\" target=\"_parent\"><img src=\"https://colab.research.google.com/assets/colab-badge.svg\" alt=\"Open In Colab\"/></a>"
      ]
    },
    {
      "cell_type": "code",
      "source": [
        "for r in range(6):\n",
        "  for c in range(6):\n",
        "    if (r<=c):\n",
        "      print(\"+\",end=\"\")\n",
        "  print()"
      ],
      "metadata": {
        "colab": {
          "base_uri": "https://localhost:8080/"
        },
        "id": "Hledtimfc7iw",
        "outputId": "acf79c5a-2a4f-4628-bcc3-19695f23b23e"
      },
      "execution_count": 4,
      "outputs": [
        {
          "output_type": "stream",
          "name": "stdout",
          "text": [
            "++++++\n",
            "+++++\n",
            "++++\n",
            "+++\n",
            "++\n",
            "+\n"
          ]
        }
      ]
    },
    {
      "cell_type": "code",
      "execution_count": null,
      "metadata": {
        "colab": {
          "base_uri": "https://localhost:8080/"
        },
        "id": "9TJylgp2FphP",
        "outputId": "77c3fb40-7cd1-4fcc-9792-200b3fb2b091"
      },
      "outputs": [
        {
          "output_type": "stream",
          "name": "stdout",
          "text": [
            "*\n",
            "**\n",
            "***\n",
            "****\n",
            "*****\n",
            "******\n"
          ]
        }
      ],
      "source": [
        "for r in range(6):\n",
        "  for c in range(6):\n",
        "    if (c<=r):\n",
        "      print(\"*\",end=\"\")\n",
        "  print()\n",
        "\n"
      ]
    },
    {
      "cell_type": "code",
      "source": [
        "for r in range(5):\n",
        "    for c in range(5):\n",
        "        if (c < 5 - r - 1):\n",
        "            print(\" \", end=\"\")\n",
        "        else:\n",
        "            print(\"*\", end=\"\")\n",
        "    print()"
      ],
      "metadata": {
        "colab": {
          "base_uri": "https://localhost:8080/"
        },
        "id": "4woa5r2tdCa7",
        "outputId": "0e97bb75-4fe6-4bf3-9636-cf16df8ce289"
      },
      "execution_count": 26,
      "outputs": [
        {
          "output_type": "stream",
          "name": "stdout",
          "text": [
            "    *\n",
            "   **\n",
            "  ***\n",
            " ****\n",
            "*****\n"
          ]
        }
      ]
    },
    {
      "cell_type": "code",
      "source": [
        "for r in range(6):\n",
        "    for c in range(6):\n",
        "        if (c<r):\n",
        "            print(\" \", end=\"\")\n",
        "        else:\n",
        "            print(\"+\", end=\"\")\n",
        "    print()"
      ],
      "metadata": {
        "colab": {
          "base_uri": "https://localhost:8080/"
        },
        "id": "UHaqqLPDNAmv",
        "outputId": "b325ce7b-d402-4bf2-ef0e-e57f6fc63083"
      },
      "execution_count": 2,
      "outputs": [
        {
          "output_type": "stream",
          "name": "stdout",
          "text": [
            "++++++\n",
            " +++++\n",
            "  ++++\n",
            "   +++\n",
            "    ++\n",
            "     +\n"
          ]
        }
      ]
    },
    {
      "cell_type": "code",
      "source": [
        "\n",
        "r=0\n",
        "while (r in range(6)):\n",
        "  c=0\n",
        "  while (c in range(6)):\n",
        "    if(r<=c):\n",
        "      print(\"+\",end=\"\")\n",
        "    c+=1\n",
        "  print()\n",
        "  r+=1"
      ],
      "metadata": {
        "colab": {
          "base_uri": "https://localhost:8080/"
        },
        "id": "kUuhgSZbNQwS",
        "outputId": "3c3c9d49-d045-440f-eba0-4f918bf0062a"
      },
      "execution_count": 19,
      "outputs": [
        {
          "output_type": "stream",
          "name": "stdout",
          "text": [
            "++++++\n",
            "+++++\n",
            "++++\n",
            "+++\n",
            "++\n",
            "+\n"
          ]
        }
      ]
    },
    {
      "cell_type": "code",
      "source": [
        "r=0\n",
        "while (r in range(6)):\n",
        "  c=0\n",
        "  while (c in range(6)):\n",
        "    if(c<=r):\n",
        "      print(\"*\",end=\"\")\n",
        "    c+=1\n",
        "  print()\n",
        "  r+=1"
      ],
      "metadata": {
        "colab": {
          "base_uri": "https://localhost:8080/"
        },
        "id": "L2Hwt4NeCsLc",
        "outputId": "84c7fb88-b2d6-4445-93f2-e15b27b012f6"
      },
      "execution_count": 22,
      "outputs": [
        {
          "output_type": "stream",
          "name": "stdout",
          "text": [
            "*\n",
            "**\n",
            "***\n",
            "****\n",
            "*****\n",
            "******\n"
          ]
        }
      ]
    },
    {
      "cell_type": "code",
      "source": [
        "\n",
        "r=0\n",
        "while (r in range(5)):\n",
        "  c=0\n",
        "  while (c in range(5)):\n",
        "        if (c < 5 - r - 1):\n",
        "            print(\" \", end=\"\")\n",
        "            c+=1\n",
        "        else:\n",
        "            print(\"*\", end=\"\")\n",
        "            c+=1\n",
        "  print()\n",
        "  r+=1"
      ],
      "metadata": {
        "colab": {
          "base_uri": "https://localhost:8080/"
        },
        "id": "AyZRugl9gzXO",
        "outputId": "cd5ba631-5d01-46c9-8825-3284614dcfd9"
      },
      "execution_count": 28,
      "outputs": [
        {
          "output_type": "stream",
          "name": "stdout",
          "text": [
            "    *\n",
            "   **\n",
            "  ***\n",
            " ****\n",
            "*****\n"
          ]
        }
      ]
    },
    {
      "cell_type": "code",
      "source": [
        "r=0\n",
        "while (r in range(6)):\n",
        "  c=0\n",
        "  while (c in range(6)):\n",
        "    if(r<=c):\n",
        "      print(\"+\",end=\"\")\n",
        "    else:\n",
        "      print(\" \",end=\"\")\n",
        "    c+=1\n",
        "  print()\n",
        "  r+=1"
      ],
      "metadata": {
        "colab": {
          "base_uri": "https://localhost:8080/"
        },
        "id": "zGYdRvYkgz60",
        "outputId": "73ea5e64-2a86-4dd8-97cd-fe7bd70443a8"
      },
      "execution_count": 24,
      "outputs": [
        {
          "output_type": "stream",
          "name": "stdout",
          "text": [
            "++++++\n",
            " +++++\n",
            "  ++++\n",
            "   +++\n",
            "    ++\n",
            "     +\n"
          ]
        }
      ]
    }
  ]
}