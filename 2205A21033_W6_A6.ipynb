{
  "nbformat": 4,
  "nbformat_minor": 0,
  "metadata": {
    "colab": {
      "provenance": [],
      "authorship_tag": "ABX9TyOrMVn9R9PDfkGHmi4ptq4E",
      "include_colab_link": true
    },
    "kernelspec": {
      "name": "python3",
      "display_name": "Python 3"
    },
    "language_info": {
      "name": "python"
    }
  },
  "cells": [
    {
      "cell_type": "markdown",
      "metadata": {
        "id": "view-in-github",
        "colab_type": "text"
      },
      "source": [
        "<a href=\"https://colab.research.google.com/github/thurpatisrihari/Python-Lab/blob/main/2205A21033_W6_A6.ipynb\" target=\"_parent\"><img src=\"https://colab.research.google.com/assets/colab-badge.svg\" alt=\"Open In Colab\"/></a>"
      ]
    },
    {
      "cell_type": "code",
      "source": [
        "for r in range(6):\n",
        "  for c in range(6):\n",
        "    if (r<=c):\n",
        "      print(\"+\",end=\"\")\n",
        "  print()"
      ],
      "metadata": {
        "colab": {
          "base_uri": "https://localhost:8080/"
        },
        "id": "Hledtimfc7iw",
        "outputId": "f5d017aa-524e-455a-8236-8ae1077ad8f4"
      },
      "execution_count": 30,
      "outputs": [
        {
          "output_type": "stream",
          "name": "stdout",
          "text": [
            "++++++\n",
            "+++++\n",
            "++++\n",
            "+++\n",
            "++\n",
            "+\n"
          ]
        }
      ]
    },
    {
      "cell_type": "code",
      "execution_count": 31,
      "metadata": {
        "colab": {
          "base_uri": "https://localhost:8080/"
        },
        "id": "9TJylgp2FphP",
        "outputId": "d4ebfe8f-9bb8-49c7-dbbb-e2e202f7b208"
      },
      "outputs": [
        {
          "output_type": "stream",
          "name": "stdout",
          "text": [
            "*\n",
            "**\n",
            "***\n",
            "****\n",
            "*****\n",
            "******\n"
          ]
        }
      ],
      "source": [
        "for r in range(6):\n",
        "  for c in range(6):\n",
        "    if (c<=r):\n",
        "      print(\"*\",end=\"\")\n",
        "  print()\n",
        "\n"
      ]
    },
    {
      "cell_type": "code",
      "source": [
        "for r in range(5):\n",
        "    for c in range(5):\n",
        "        if (c < 5 - r - 1):\n",
        "            print(\" \", end=\"\")\n",
        "        else:\n",
        "            print(\"*\", end=\"\")\n",
        "    print()"
      ],
      "metadata": {
        "colab": {
          "base_uri": "https://localhost:8080/"
        },
        "id": "4woa5r2tdCa7",
        "outputId": "33f43900-0675-438c-83d7-a75490615fee"
      },
      "execution_count": 32,
      "outputs": [
        {
          "output_type": "stream",
          "name": "stdout",
          "text": [
            "    *\n",
            "   **\n",
            "  ***\n",
            " ****\n",
            "*****\n"
          ]
        }
      ]
    },
    {
      "cell_type": "code",
      "source": [
        "for r in range(6):\n",
        "    for c in range(6):\n",
        "        if (c<r):\n",
        "            print(\" \", end=\"\")\n",
        "        else:\n",
        "            print(\"+\", end=\"\")\n",
        "    print()"
      ],
      "metadata": {
        "colab": {
          "base_uri": "https://localhost:8080/"
        },
        "id": "XLhk8ucYlTKq",
        "outputId": "e34c0472-e23d-47e4-f96a-0fb4fb62a97c"
      },
      "execution_count": 39,
      "outputs": [
        {
          "output_type": "stream",
          "name": "stdout",
          "text": [
            "++++++\n",
            " +++++\n",
            "  ++++\n",
            "   +++\n",
            "    ++\n",
            "     +\n"
          ]
        }
      ]
    },
    {
      "cell_type": "code",
      "source": [
        "\n",
        "r=0\n",
        "while (r in range(6)):\n",
        "  c=0\n",
        "  while (c in range(6)):\n",
        "    if(r<=c):\n",
        "      print(\"+\",end=\"\")\n",
        "    c+=1\n",
        "  print()\n",
        "  r+=1"
      ],
      "metadata": {
        "colab": {
          "base_uri": "https://localhost:8080/"
        },
        "id": "kUuhgSZbNQwS",
        "outputId": "47013516-7ebc-48e3-b587-ed095548a756"
      },
      "execution_count": 34,
      "outputs": [
        {
          "output_type": "stream",
          "name": "stdout",
          "text": [
            "++++++\n",
            "+++++\n",
            "++++\n",
            "+++\n",
            "++\n",
            "+\n"
          ]
        }
      ]
    },
    {
      "cell_type": "code",
      "source": [
        "r=0\n",
        "while (r in range(6)):\n",
        "  c=0\n",
        "  while (c in range(6)):\n",
        "    if(c<=r):\n",
        "      print(\"*\",end=\"\")\n",
        "    c+=1\n",
        "  print()\n",
        "  r+=1"
      ],
      "metadata": {
        "colab": {
          "base_uri": "https://localhost:8080/"
        },
        "id": "L2Hwt4NeCsLc",
        "outputId": "a3004e6f-d56f-4805-8ec6-447275c38ada"
      },
      "execution_count": 35,
      "outputs": [
        {
          "output_type": "stream",
          "name": "stdout",
          "text": [
            "*\n",
            "**\n",
            "***\n",
            "****\n",
            "*****\n",
            "******\n"
          ]
        }
      ]
    },
    {
      "cell_type": "code",
      "source": [
        "\n",
        "r=0\n",
        "while (r in range(5)):\n",
        "  c=0\n",
        "  while (c in range(5)):\n",
        "        if (c < 5 - r - 1):\n",
        "            print(\" \", end=\"\")\n",
        "            c+=1\n",
        "        else:\n",
        "            print(\"*\", end=\"\")\n",
        "            c+=1\n",
        "  print()\n",
        "  r+=1"
      ],
      "metadata": {
        "colab": {
          "base_uri": "https://localhost:8080/"
        },
        "id": "AyZRugl9gzXO",
        "outputId": "de644b8d-b4ae-43ca-8595-91d2bfba8611"
      },
      "execution_count": 36,
      "outputs": [
        {
          "output_type": "stream",
          "name": "stdout",
          "text": [
            "    *\n",
            "   **\n",
            "  ***\n",
            " ****\n",
            "*****\n"
          ]
        }
      ]
    },
    {
      "cell_type": "code",
      "source": [
        "r=0\n",
        "while (r in range(6)):\n",
        "  c=0\n",
        "  while (c in range(6)):\n",
        "    if(r<=c):\n",
        "      print(\"+\",end=\"\")\n",
        "    else:\n",
        "      print(\" \",end=\"\")\n",
        "    c+=1\n",
        "  print()\n",
        "  r+=1"
      ],
      "metadata": {
        "colab": {
          "base_uri": "https://localhost:8080/"
        },
        "id": "zGYdRvYkgz60",
        "outputId": "4d70f355-b47b-473a-ad86-1b1664d07b1c"
      },
      "execution_count": 37,
      "outputs": [
        {
          "output_type": "stream",
          "name": "stdout",
          "text": [
            "++++++\n",
            " +++++\n",
            "  ++++\n",
            "   +++\n",
            "    ++\n",
            "     +\n"
          ]
        }
      ]
    }
  ]
}