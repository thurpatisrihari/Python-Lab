{
  "nbformat": 4,
  "nbformat_minor": 0,
  "metadata": {
    "colab": {
      "provenance": [],
      "authorship_tag": "ABX9TyPpCp4a2qwQEMukDN/fwbVD",
      "include_colab_link": true
    },
    "kernelspec": {
      "name": "python3",
      "display_name": "Python 3"
    },
    "language_info": {
      "name": "python"
    }
  },
  "cells": [
    {
      "cell_type": "markdown",
      "metadata": {
        "id": "view-in-github",
        "colab_type": "text"
      },
      "source": [
        "<a href=\"https://colab.research.google.com/github/thurpatisrihari/Python-Lab/blob/main/2205A21033_A3.ipynb\" target=\"_parent\"><img src=\"https://colab.research.google.com/assets/colab-badge.svg\" alt=\"Open In Colab\"/></a>"
      ]
    },
    {
      "cell_type": "code",
      "execution_count": 1,
      "metadata": {
        "id": "l0Ug98mDMO5p",
        "colab": {
          "base_uri": "https://localhost:8080/"
        },
        "outputId": "88546493-fe15-4420-c4c2-b7fa7d4f768d"
      },
      "outputs": [
        {
          "output_type": "stream",
          "name": "stdout",
          "text": [
            "enter the rating of the transformer in voliamperes:5000\n",
            "enter the loading of the transformer:1\n",
            "enter the power factor of the transformer:1\n",
            "enter the open ckt voltage of the transformer in volts:220\n",
            "enter the open ckt current of the transformer in amps:2\n",
            "enter the open ckt power of the transformer in watts:250\n",
            "enter the short circuit voltage of the transformer in volts:75\n",
            "enter the short circuit current of the transformer in amps:10\n",
            "enter the short circuit power of the transformer in watts:500\n",
            "rO= 193.6\n",
            "xO= 133.67309875319802\n",
            "rhv= 5.0\n",
            "xhv= 5.5901699437494745\n",
            "efficiency= 86.95652173913044\n",
            "xcu= 500.0\n"
          ]
        }
      ],
      "source": [
        "import transformer\n",
        "r=float(input(\"enter the rating of the transformer in voliamperes:\"))\n",
        "x=float(input(\"enter the loading of the transformer:\"))\n",
        "pf=float(input(\"enter the power factor of the transformer:\"))\n",
        "vO=float(input(\"enter the open ckt voltage of the transformer in volts:\"))\n",
        "iO=float(input(\"enter the open ckt current of the transformer in amps:\"))\n",
        "wO=float(input(\"enter the open ckt power of the transformer in watts:\"))\n",
        "vsc=float(input(\"enter the short circuit voltage of the transformer in volts:\"))\n",
        "isc=float(input(\"enter the short circuit current of the transformer in amps:\"))\n",
        "wsc=float(input(\"enter the short circuit power of the transformer in watts:\"))\n",
        "[rO,xO]=transformer.oc(vO,iO,wO)\n",
        "[rhv,xhv]=transformer.sc(vsc,isc,wsc)\n",
        "[efficiency,xcu]=transformer.eff(r,wO,wsc,x,pf)\n",
        "print(\"rO=\",rO)\n",
        "print(\"xO=\",xO)\n",
        "print(\"rhv=\",rhv)\n",
        "print(\"xhv=\",xhv)\n",
        "print(\"efficiency=\",efficiency)\n",
        "print(\"xcu=\",xcu)"
      ]
    },
    {
      "cell_type": "code",
      "source": [],
      "metadata": {
        "id": "mybfIw8uRwpn"
      },
      "execution_count": null,
      "outputs": []
    }
  ]
}