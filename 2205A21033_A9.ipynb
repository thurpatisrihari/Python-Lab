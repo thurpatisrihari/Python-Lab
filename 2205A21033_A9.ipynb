{
  "nbformat": 4,
  "nbformat_minor": 0,
  "metadata": {
    "colab": {
      "provenance": [],
      "authorship_tag": "ABX9TyNZd1Ms2oc/xUXD5nPBTrs/",
      "include_colab_link": true
    },
    "kernelspec": {
      "name": "python3",
      "display_name": "Python 3"
    },
    "language_info": {
      "name": "python"
    }
  },
  "cells": [
    {
      "cell_type": "markdown",
      "metadata": {
        "id": "view-in-github",
        "colab_type": "text"
      },
      "source": [
        "<a href=\"https://colab.research.google.com/github/thurpatisrihari/Python-Lab/blob/main/2205A21033_A9.ipynb\" target=\"_parent\"><img src=\"https://colab.research.google.com/assets/colab-badge.svg\" alt=\"Open In Colab\"/></a>"
      ]
    },
    {
      "cell_type": "code",
      "source": [
        "import numpy as np\n",
        "marks=np.array([[101,35,98,43,65,78,96],[102,87,45,98,65,34,78],[103,45,26,78,45,67,34],[104,45,56,67,78,89,90],[105,23,34,45,56,76,87]])\n",
        "students=marks.shape[0]\n",
        "\n",
        "Roll_no=int(input(\"enter the Roll_no:\"))\n",
        "for i in range(students):\n",
        "  if(Roll_no==marks[i][0]):\n",
        "    break\n",
        "index=i\n",
        "percentages=np.sum(marks[index,1:marks.shape[1]])*100/600\n",
        "\n",
        "count=0\n",
        "failed_sub=[]\n",
        "for i in range(1,marks.shape[1]):\n",
        "  if(marks[index][i]<35):\n",
        "    count=count+1\n",
        "    failed_sub.append(i)\n",
        "print(\"==========================\")\n",
        "print(\"     KINDERLAND SCHOOL     \")\n",
        "print(\"        score card        \")\n",
        "print(\"==========================\")\n",
        "print(\"Roll_no:\",Roll_no)\n",
        "print(\"Telugu:\",marks[index][1])\n",
        "print(\"English:\",marks[index][2])\n",
        "print(\"Hindi:\",marks[index][3])\n",
        "print(\"Math:\",marks[index][4])\n",
        "print(\"Science:\",marks[index][5])\n",
        "print(\"Social:\",marks[index][6])\n",
        "print(\"==============================\")\n",
        "print(\"    Results         \")\n",
        "print(\"==============================\")\n",
        "if(count>0):\n",
        "  print(\"fail\")\n",
        "  print(\"failed subject:\",)\n",
        "  for i in range(len(failed_sub)):\n",
        "    if(failed_sub[i]==1):\n",
        "      print(\"Telugu\")\n",
        "    if(failed_sub[i]==2):\n",
        "      print(\"English\")\n",
        "    if(failed_sub[i]==3):\n",
        "      print(\"Hindi\")\n",
        "    if(failed_sub[i]==4):\n",
        "      print(\"Maths\")\n",
        "    if(failed_sub[i]==5):\n",
        "      print(\"Science\")\n",
        "    if(failed_sub[i]==6):\n",
        "      print(\"Social\")\n",
        "  print(\"percentage:\",np.round(percentages))\n",
        "print(\"=====================================\")"
      ],
      "metadata": {
        "colab": {
          "base_uri": "https://localhost:8080/"
        },
        "id": "c022ldEusHVj",
        "outputId": "af20b1bc-30c9-4b46-dd5c-0cc514dc8465"
      },
      "execution_count": 4,
      "outputs": [
        {
          "output_type": "stream",
          "name": "stdout",
          "text": [
            "enter the Roll_no:101\n",
            "==========================\n",
            "     KINDERLAND SCHOOL     \n",
            "        score card        \n",
            "==========================\n",
            "Roll_no: 101\n",
            "Telugu: 35\n",
            "English: 98\n",
            "Hindi: 43\n",
            "Math: 65\n",
            "Science: 78\n",
            "Social: 96\n",
            "==============================\n",
            "    Results         \n",
            "==============================\n",
            "pass\n",
            "percentage: 69.0\n",
            "=====================================\n"
          ]
        }
      ]
    },
    {
      "cell_type": "code",
      "source": [
        "import numpy as np\n",
        "marks=np.array([[101,35,98,43,65,78,96],[102,87,45,98,65,34,78],[103,45,26,78,45,67,34],[104,45,56,67,78,89,90],[105,23,34,45,56,76,87]])\n",
        "students=marks.shape[0]\n",
        "\n",
        "Roll_no=int(input(\"enter the Roll_no:\"))\n",
        "for i in range(students):\n",
        "  if(Roll_no==marks[i][0]):\n",
        "    break\n",
        "index=i\n",
        "percentages=np.sum(marks[index,1:marks.shape[1]])*100/600\n",
        "\n",
        "count=0\n",
        "failed_sub=[]\n",
        "for i in range(1,marks.shape[1]):\n",
        "  if(marks[index][i]<35):\n",
        "    count=count+1\n",
        "    failed_sub.append(i)\n",
        "print(\"==========================\")\n",
        "print(\"     Brilliant school     \")\n",
        "print(\"        score card        \")\n",
        "print(\"==========================\")\n",
        "print(\"Roll_no:\",Roll_no)\n",
        "print(\"Telugu:\",marks[index][1])\n",
        "print(\"English:\",marks[index][2])\n",
        "print(\"Hindi:\",marks[index][3])\n",
        "print(\"Math:\",marks[index][4])\n",
        "print(\"Science:\",marks[index][5])\n",
        "print(\"Social:\",marks[index][6])\n",
        "print(\"==============================\")\n",
        "print(\"    Results         \")\n",
        "print(\"==============================\")\n",
        "if(count>0):\n",
        "  print(\"fail\")\n",
        "  print(\"failed subject:\",)\n",
        "  for i in range(len(failed_sub)):\n",
        "    if(failed_sub[i]==1):\n",
        "      print(\"Telugu\")\n",
        "    if(failed_sub[i]==2):\n",
        "      print(\"English\")\n",
        "    if(failed_sub[i]==3):\n",
        "      print(\"Hindi\")\n",
        "    if(failed_sub[i]==4):\n",
        "      print(\"Maths\")\n",
        "    if(failed_sub[i]==5):\n",
        "      print(\"Science\")\n",
        "    if(failed_sub[i]==6):\n",
        "      print(\"Social\")\n",
        "else:\n",
        "  print(\"pass\")\n",
        "  print(\"percentage:\",np.round(percentages))\n",
        "print(\"=====================================\")"
      ],
      "metadata": {
        "colab": {
          "base_uri": "https://localhost:8080/"
        },
        "id": "icZLzssIv5XD",
        "outputId": "e65195d1-903e-4729-8844-7b09ee156437"
      },
      "execution_count": 5,
      "outputs": [
        {
          "output_type": "stream",
          "name": "stdout",
          "text": [
            "enter the Roll_no:103\n",
            "==========================\n",
            "     Brilliant school     \n",
            "        score card        \n",
            "==========================\n",
            "Roll_no: 103\n",
            "Telugu: 45\n",
            "English: 26\n",
            "Hindi: 78\n",
            "Math: 45\n",
            "Science: 67\n",
            "Social: 34\n",
            "==============================\n",
            "    Results         \n",
            "==============================\n",
            "fail\n",
            "failed subject:\n",
            "English\n",
            "Social\n",
            "=====================================\n"
          ]
        }
      ]
    }
  ]
}