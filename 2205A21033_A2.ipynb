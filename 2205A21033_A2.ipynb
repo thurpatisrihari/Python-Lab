{
  "nbformat": 4,
  "nbformat_minor": 0,
  "metadata": {
    "colab": {
      "provenance": [],
      "authorship_tag": "ABX9TyOftt0ZOPv8ENJA4a2FaQJT",
      "include_colab_link": true
    },
    "kernelspec": {
      "name": "python3",
      "display_name": "Python 3"
    },
    "language_info": {
      "name": "python"
    }
  },
  "cells": [
    {
      "cell_type": "markdown",
      "metadata": {
        "id": "view-in-github",
        "colab_type": "text"
      },
      "source": [
        "<a href=\"https://colab.research.google.com/github/thurpatisrihari/Python-Lab/blob/main/2205A21033_A2.ipynb\" target=\"_parent\"><img src=\"https://colab.research.google.com/assets/colab-badge.svg\" alt=\"Open In Colab\"/></a>"
      ]
    },
    {
      "cell_type": "code",
      "source": [
        "rating=float(input(\"enter the rating of the transformer in volt amperes:\"))\n",
        "invol_Oc=float(input(\"enter the input voltage of the open circuit of the transformer in volts:\"))\n",
        "incur_Oc=float(input(\"enter the input current of the open circuit of the transformer in amperes:\"))\n",
        "inpow_Oc=float(input(\"enter the input power of the open circuit transformer of the in kilo watts\"))*1000\n",
        "invol_Sc=float(input(\"enter the input voltage of the short circuit of the transformer in volts:\"))\n",
        "incur_Sc=float(input(\"enter the input current of the short circuit of the transformer in amperes:\"))\n",
        "inpow_Sc=float(input(\"enter the input power of the short circuit of the transformer in kilo watts:\"))*1000\n",
        "k=float(input(\"enter the load value inserted for the transformer:\"))\n",
        "\n",
        "R0=invol_Oc**2 / inpow_Oc\n",
        "R01=inpow_Sc / incur_Sc\n",
        "X0 = (invol_Oc / incur_Oc) - R0\n",
        "Zs = invol_Sc / incur_Sc\n",
        "\n",
        "X01=zsc=R0\n",
        "apparent_power_Oc = invol_Oc * incur_Oc\n",
        "pf = inpow_Oc / apparent_power_Oc\n",
        "\n",
        "\n",
        "import math\n",
        "if -1 <= pf <= 1:\n",
        "    phase_angle = math.acos(pf)\n",
        "else:\n",
        "    phase_angle = \"Invalid power factor value\"\n",
        "\n",
        "total_input_power = inpow_Oc + inpow_Sc\n",
        "eff = (rating / total_input_power) * 100\n",
        "copper_losses = ((invol_Oc**2))/inpow_Oc*k\n",
        "core_losses = ((invol_Sc**2))/inpow_Sc*k\n",
        "print(\"copper losses:\",copper_losses)\n",
        "print(\"core_losses:\",core_losses)\n",
        "print(\"R0:\",R0)\n",
        "print(\"R01:\",R01)\n",
        "print(\"X0:\",X0)\n",
        "print(\"Zs:\",Zs)\n",
        "print(\"X01:\",X01)\n",
        "print(\"pf:\",pf)\n",
        "print(\"eff:\",eff)\n",
        "print(\"phase_angle:\",phase_angle)\n"
      ],
      "metadata": {
        "colab": {
          "base_uri": "https://localhost:8080/"
        },
        "id": "6vFzZESYdhEx",
        "outputId": "c320be1a-e71d-4e7b-99ee-1a6ff20275bd"
      },
      "execution_count": null,
      "outputs": [
        {
          "output_type": "stream",
          "name": "stdout",
          "text": [
            "enter the rating of the transformer in volt amperes:5000\n",
            "enter the input voltage of the open circuit of the transformer in volts:220\n",
            "enter the input current of the open circuit of the transformer in amperes:2\n",
            "enter the input power of the open circuit transformer of the in kilo watts2.5\n",
            "enter the input voltage of the short circuit of the transformer in volts:25\n",
            "enter the input current of the short circuit of the transformer in amperes:10\n",
            "enter the input power of the short circuit of the transformer in kilo watts:5\n",
            "enter the load value inserted for the transformer:1\n",
            "copper losses: 19.36\n",
            "core_losses: 0.125\n",
            "R0: 19.36\n",
            "R01: 500.0\n",
            "X0: 90.64\n",
            "Zs: 2.5\n",
            "X01: 19.36\n",
            "pf: 5.681818181818182\n",
            "eff: 66.66666666666666\n",
            "phase_angle: Invalid power factor value\n"
          ]
        }
      ]
    }
  ]
}