{
  "nbformat": 4,
  "nbformat_minor": 0,
  "metadata": {
    "colab": {
      "provenance": [],
      "authorship_tag": "ABX9TyNmXqPfydnwvwcCXBBLT1EM",
      "include_colab_link": true
    },
    "kernelspec": {
      "name": "python3",
      "display_name": "Python 3"
    },
    "language_info": {
      "name": "python"
    }
  },
  "cells": [
    {
      "cell_type": "markdown",
      "metadata": {
        "id": "view-in-github",
        "colab_type": "text"
      },
      "source": [
        "<a href=\"https://colab.research.google.com/github/thurpatisrihari/Python-Lab/blob/main/TGNPDCL.ipynb\" target=\"_parent\"><img src=\"https://colab.research.google.com/assets/colab-badge.svg\" alt=\"Open In Colab\"/></a>"
      ]
    },
    {
      "cell_type": "code",
      "execution_count": 5,
      "metadata": {
        "id": "ai1qLGhxR8vt"
      },
      "outputs": [],
      "source": [
        "def res(pu,cu):\n",
        "  u=cu-pu\n",
        "  ed=0.06*u\n",
        "  if(u==0):\n",
        "    ec=50\n",
        "    fc=10\n",
        "    cc=40\n",
        "  if(u>0 and u<=100):\n",
        "    if(u<=50):\n",
        "      ec=1.95*u\n",
        "      fc=10\n",
        "      cc=40\n",
        "    else:\n",
        "      ec=3.10*u\n",
        "      fc=10\n",
        "      cc=70\n",
        "  else:\n",
        "    if(u>100 and u<=200):\n",
        "      ec=100*3.40+(u-100)*4.80\n",
        "      fc=10\n",
        "      cc=90\n",
        "    else:\n",
        "      print(\"application not support\")\n",
        "  bill_amount=ec+fc+cc+ed\n",
        "  return ec,fc,cc,ed,bill_amount"
      ]
    },
    {
      "cell_type": "code",
      "source": [
        "def com(pu,cu):\n",
        "  u=cu-pu\n",
        "  ed=0.06*u\n",
        "  if(u==0):\n",
        "    ec=150\n",
        "    fc=60\n",
        "    cc=50\n",
        "  else:\n",
        "    if(u>0 and u<=50):\n",
        "      ec=7.0*u\n",
        "      fc=60\n",
        "      cc=50\n",
        "    else:\n",
        "      print(\"application not support\")\n",
        "  bill_amount=ec+fc+cc+ed\n",
        "  return ec,fc,cc,ed,bill_amount\n"
      ],
      "metadata": {
        "id": "4gzywFlgXCQe"
      },
      "execution_count": 4,
      "outputs": []
    },
    {
      "cell_type": "code",
      "source": [
        "def adv(pu,cu):\n",
        "  u=cu-pu\n",
        "  ed=0.06*u\n",
        "  if(u>0):\n",
        "    ec=13.0*u\n",
        "  else:\n",
        "    ec=300\n",
        "  fc=70\n",
        "  cc=170\n",
        "  bill_amount=ec+fc+cc+ed\n",
        "  return ec,fc,cc,ed,bill_amount"
      ],
      "metadata": {
        "id": "v3t-mfgKXOKG"
      },
      "execution_count": null,
      "outputs": []
    }
  ]
}