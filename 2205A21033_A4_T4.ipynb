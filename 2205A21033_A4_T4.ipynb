{
  "nbformat": 4,
  "nbformat_minor": 0,
  "metadata": {
    "colab": {
      "provenance": [],
      "authorship_tag": "ABX9TyMRgW7vBcAyaWm4F3xBhsjI",
      "include_colab_link": true
    },
    "kernelspec": {
      "name": "python3",
      "display_name": "Python 3"
    },
    "language_info": {
      "name": "python"
    }
  },
  "cells": [
    {
      "cell_type": "markdown",
      "metadata": {
        "id": "view-in-github",
        "colab_type": "text"
      },
      "source": [
        "<a href=\"https://colab.research.google.com/github/thurpatisrihari/Python-Lab/blob/main/2205A21033_A4_T4.ipynb\" target=\"_parent\"><img src=\"https://colab.research.google.com/assets/colab-badge.svg\" alt=\"Open In Colab\"/></a>"
      ]
    },
    {
      "cell_type": "code",
      "execution_count": 1,
      "metadata": {
        "colab": {
          "base_uri": "https://localhost:8080/"
        },
        "id": "NnUd0L27jujf",
        "outputId": "0f38e445-00ff-42ac-feb4-663a85a50572"
      },
      "outputs": [
        {
          "output_type": "stream",
          "name": "stdout",
          "text": [
            "Assembling the current date and time 2024-09-09 11:36:10.658873\n",
            "The formatted date and time 2024-09-09 11:36:10\n",
            "enter the previos month units=71.44\n",
            "enter the current month units=71.83\n",
            "enter the type of customer 0;res 1;com 2;adv0\n",
            "----------------------------\n",
            "TGNPDCL TELANGANA NORTHEN POWER DISTRIBUTION COMPANY LIMITED \n",
            "formatted date and time: 2024-09-09 11:36:10\n",
            "----------------------------\n",
            "previous units: 71.44\n",
            "current units: 71.83\n",
            "no of units consumed= 0.39000000000000057\n",
            "energy chargers= 0.7605000000000011\n",
            "fixed chargers= 10\n",
            "customer chargers= 40\n",
            "electricity duty= 0.023400000000000032\n",
            "bill_amount= 50.7839\n"
          ]
        }
      ],
      "source": [
        "import datetime\n",
        "now=datetime.datetime.now()\n",
        "print(\"Assembling the current date and time\",now)\n",
        "formatted_now=now.strftime(\"%Y-%m-%d %H:%M:%S\")\n",
        "count=0\n",
        "print(\"The formatted date and time\",formatted_now)\n",
        "Pu=float(input(\"enter the previos month units=\"))\n",
        "Cu=float(input(\"enter the current month units=\"))\n",
        "Tc=float(input(\"enter the type of customer 0;res 1;com 2;adv\"))\n",
        "no_units=Cu-Pu\n",
        "Ed=0.06*no_units\n",
        "if(Tc==0):\n",
        "  if(no_units<100):\n",
        "    if(no_units<50):\n",
        "      Ec=1.95*no_units\n",
        "      Fc=10\n",
        "      Cc=40\n",
        "    else:\n",
        "      Ec=3.10*no_units\n",
        "      Fc=10\n",
        "      Cc=70\n",
        "  else:\n",
        "    if(no_units>100 and no_units<=200):\n",
        "      Ec=100*3.4+(no_units-100)*4.8\n",
        "      Fc=10\n",
        "      Cc=90\n",
        "    else:\n",
        "        print(\"this application is not supppoted\")\n",
        "        count=count+1\n",
        "if(Tc==1):\n",
        "  if(no_units<50):\n",
        "    Ec=7*no_units\n",
        "    Fc=10\n",
        "    Cc=50\n",
        "  else:\n",
        "    print(\"this application is not supppoted\")\n",
        "    count=count+1\n",
        "\n",
        "if(Tc==2):\n",
        "  Ec=13*no_units\n",
        "  Fc=70\n",
        "  Cc=160\n",
        "\n",
        "if(count==0):\n",
        "  Total_bill_amount=Ec+Fc+Cc+Ed\n",
        "  print(\"----------------------------\")\n",
        "  print(\"TGNPDCL TELANGANA NORTHEN POWER DISTRIBUTION COMPANY LIMITED \")\n",
        "  print(\"formatted date and time:\",formatted_now)\n",
        "  print(\"----------------------------\")\n",
        "  print(\"previous units:\",Pu)\n",
        "  print(\"current units:\",Cu)\n",
        "  print(\"no of units consumed=\",no_units)\n",
        "  print(\"energy chargers=\",Ec)\n",
        "  print(\"fixed chargers=\",Fc)\n",
        "  print(\"customer chargers=\",Cc)\n",
        "  print(\"electricity duty=\",Ed)\n",
        "  print(\"bill_amount=\",Total_bill_amount)"
      ]
    }
  ]
}